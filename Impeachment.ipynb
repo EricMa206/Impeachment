{
 "cells": [
  {
   "cell_type": "markdown",
   "metadata": {},
   "source": [
    "# Impeachment\n",
    "\n"
   ]
  },
  {
   "cell_type": "code",
   "execution_count": 2,
   "metadata": {},
   "outputs": [],
   "source": [
    "import numpy as np\n",
    "import pandas as pd\n",
    "import matplotlib as plt\n",
    "import re"
   ]
  },
  {
   "cell_type": "code",
   "execution_count": 3,
   "metadata": {},
   "outputs": [],
   "source": [
    "f = open('impeachment.md', \"r\")\n",
    "raw_transcript = f.read()"
   ]
  },
  {
   "cell_type": "code",
   "execution_count": 4,
   "metadata": {
    "scrolled": true
   },
   "outputs": [
    {
     "name": "stdout",
     "output_type": "stream",
     "text": [
      "Impeaching Donald John Trump, President of the United States, for high crimes and misdemeanors.\n",
      "\n",
      "IN THE HOUSE OF REPRESENTATIVES\n",
      "\n",
      "Mr. NADLER submitted the following resolution; which was referred to the Committee on\n",
      "\n",
      "RESOLUTION\n",
      "\n",
      "Impeaching Donald John Trump, President of the United States, for high crimes and misdemeanors.\n",
      "\n",
      "Resolved, That Donald J. Trump, President of the United States, is impeached for high crimes and misdemeanors and that the following articles of impeachment be exhibited to the United States Senate:\n",
      "\n",
      "Articles of impeachment exhibited by the House of Representatives of the United States of America in the name of itself and of the people of the United States of America, against Donald J. Trump, President of the United States of America, in maintenance and support of its impeachment against him for high crimes and misdemeanors.\n",
      "\n",
      "ARTICLE I: ABUSE OF POWER\n",
      "\n",
      "The Constitution provides that the House of Representatives \"shall have the sole Power of Impeachment\" and that the President \"shall be removed from Office on Impeachment for, and Conviction of, Treason, Bribery, or other high Crimes and Misdemeanors\". In his conduct of the office of President of the United States—and in violation of his constitutional oath faithfully to execute the office of President of the United States and, to the best of his ability, preserve, protect, and defend the Constitution of the United States, and in violation of his constitutional duty to take care that the laws be faithfully executed—Donald J. Trump has abused the powers of the Presidency, in that:\n",
      "\n",
      "Using the powers of his high office, President Trump solicited the interference of a foreign government, Ukraine, in the 2020 United States Presidential election. He did so through a scheme or course of conduct that included soliciting the Government of Ukraine to publicly announce investigations that would benefit his reelection, harm the election prospects of a political opponent, and influence the 2020 United States Presidential election to his advantage. President Trump also sought to pressure the Government of Ukraine to take these steps by conditioning official United States Government acts of significant value to Ukraine on its public announcement of the investigations. President Trump engaged in this scheme or course of conduct for corrupt purposes in pursuit of personal political benefit. In so doing, President Trump used the powers of the Presidency in a manner that compromised the national security of the United States and undermined the integrity of the United States democratic process. He thus ignored and injured the interests of the Nation.\n",
      "\n",
      "President Trump engaged in this scheme or course of conduct through the following means:\n",
      "\n",
      "(1) President Trump—acting both directly and through his agents Within and Outside the United States Government?corruptly solicited the Government of Ukraine to publicly announce investigations into—\n",
      "\n",
      "(A) a political opponent, former Vice President Joseph R. Biden,; and\n",
      "\n",
      "(B) a discredited theory promoted by Russia alleging that Ukraine—rather than Russia—interfered in the 2016 United States Presidential election.\n",
      "\n",
      "(2) With the same corrupt motives, President Trump—acting both directly and through his agents within and outside the United States Government—conditioned two official acts on the public announcements that he had requested—\n",
      "\n",
      "(A) the release of $391 million of United States taxpayer funds that Congress had appropriated on a bipartisan basis for the purpose of providing vital military and security assistance to Ukraine to oppose Russian aggression and which President Trump had ordered suspended; and\n",
      "\n",
      "(B) a head of state meeting at the White House, which the President of Ukraine sought to demonstrate continued United States support for the Government of Ukraine in the face of Russian aggression.\n",
      "\n",
      "(3) Faced with the public revelation of his actions, President Trump ultimately released the military and security assistance to the Government of Ukraine, but has persisted in openly and corruptly urging and soliciting Ukraine to undertake investigations for his personal political benefit.\n",
      "\n",
      "These actions were consistent with President Trump's previous invitations of foreign interference in United States elections.\n",
      "\n",
      "In all of this, President Trump abused the powers of the Presidency by ignoring and injuring national security and other vital national interests to obtain an improper personal political benefit. He has also betrayed the Nation by abusing his high office to enlist a foreign power in corrupting democratic elections.\n",
      "\n",
      "Wherefore President Trump, by such conduct, has demonstrated that he will remain a threat to national security and the Constitution if allowed to remain in office, and has acted in a manner grossly incompatible with self-governance and the rule of law. President Trump thus warrants impeachment and trial, removal from office, and disqualification to hold and enjoy any Office of honor, trust, or profit under the United States.\n",
      "\n",
      "ARTICLE II: OBSTRUCTION OF CONGRESS\n",
      "\n",
      "The Constitution provides that the House of Representatives \"shall have the sole Power of Impeachment\" and that the President \"shall be removed from Office on Impeachment for, and Conviction of, Treason, Bribery, or other high Crimes and Misdemeanors\". In his conduct of the office of President of the United States?and in violation of his constitutional oath faithfully to execute the office of President of the United States and, to the best of his ability, preserve, protect, and defend the Constitution of the United States, and in violation of his constitutional duty to take care that the laws be faithfully executed—Donald J. Trump has directed the unprecedented, categorical, and indiscriminate defiance of subpoenas issued by the House of Representatives pursuant to its \"sole Power of Impeachment\". President Trump has abused the powers of the Presidency in a manner offensive to, and subversive of, the Constitution, in that:\n",
      "\n",
      "The House of Representatives has engaged in an impeachment inquiry focused on President Trump's corrupt solicitation of the Government of Ukraine to interfere in the 2020 United States Presidential election. As part of this impeachment inquiry, the Committees undertaking the investigation served subpoenas seeking documents and testimony deemed vital to the inquiry from various Executive Branch agencies and offices, and current and former officials.\n",
      "\n",
      "In response, without lawful cause or excuse, President Trump directed Executive Branch agencies, offices, and officials not to comply with those subpoenas. President Trump thus interposed the powers of the Presidency against the lawful subpoenas of the House of Representatives, and assumed to himself functions and judgments necessary to the exercise of the \"sole Power of Impeachment\" vested by the Constitution in the House of Representatives.\n",
      "\n",
      "President Trump abused the powers of his high office through the following means:\n",
      "\n",
      "(1) Directing the White House to defy a lawful subpoena by withholding the production of documents sought therein by the Committees.\n",
      "\n",
      "(2) Directing other Executive Branch agencies and offices to defy lawful subpoenas and withhold the production of documents and records from the Committees—in response to which the Department of State, Office of Management and Budget, Department of Energy, and Department of Defense refused to produce a single document or record.\n",
      "\n",
      "(3) Directing current and former Executive Branch officials not to cooperate with the Committees—in response to which nine Administration officials defied subpoenas for testimony, namely John Michael \"Mick\" Mulvaney, Robert B. Blair, John A. Eisenberg, Michael Ellis, Preston Wells Griffith, Russell T. Vought, Michael Duffey, Brian McCormack, and T. Ulrich Brechbuhl.\n",
      "\n",
      "These actions were consistent with President Trump's previous efforts to undermine United States Government investigations into foreign interference in United States elections.\n",
      "\n",
      "Through these actions, President Trump sought to arrogate to himself the right to determine the propriety, scope, and nature of an impeachment inquiry into his own conduct, as well as the unilateral prerogative to deny any and all information to the House of Representatives in the exercise of its \"sole Power of Impeachment\". In the history of the Republic, no President has ever ordered the complete defiance of an impeachment inquiry or sought to obstruct and impede so comprehensively the ability of the House of Representatives to investigate \"high Crimes and Misdemeanors\". This abuse of office served to cover up the President's own repeated misconduct and to seize and control the power of impeachment—and thus to nullify a vital constitutional safeguard vested solely in the House of Representatives.\n",
      "\n",
      "In all of this, President Trump has acted in a manner contrary to his trust as President and subversive of constitutional government, to the great prejudice of the cause of law and justice, and to the manifest injury of the people of the United States.\n",
      "\n",
      "Wherefore, President Trump, by such conduct, has demonstrated that he will remain a threat to the Constitution if allowed to remain in office, and has acted in a manner grossly incompatible with self-governance and the rule of law. President Trump thus warrants impeachment and trial, removal from office, and disqualification to hold and enjoy any office of honor, trust, or profit under the United States.\n",
      "\n"
     ]
    }
   ],
   "source": [
    "print(raw_transcript)"
   ]
  },
  {
   "cell_type": "code",
   "execution_count": 5,
   "metadata": {},
   "outputs": [
    {
     "name": "stdout",
     "output_type": "stream",
     "text": [
      "<_sre.SRE_Match object; span=(2737, 2937), match='(1) President Trump—acting both directly and thro>\n",
      "<_sre.SRE_Match object; span=(2938, 3008), match='(A) a political opponent, former Vice President J>\n",
      "<_sre.SRE_Match object; span=(3009, 3154), match='(B) a discredited theory promoted by Russia alleg>\n",
      "<_sre.SRE_Match object; span=(3155, 3379), match='(2) With the same corrupt motives, President Trum>\n",
      "<_sre.SRE_Match object; span=(3380, 3658), match='(A) the release of $391 million of United States >\n",
      "<_sre.SRE_Match object; span=(3659, 3857), match='(B) a head of state meeting at the White House, w>\n",
      "<_sre.SRE_Match object; span=(3858, 4150), match='(3) Faced with the public revelation of his actio>\n",
      "<_sre.SRE_Match object; span=(6986, 7119), match='(1) Directing the White House to defy a lawful su>\n",
      "<_sre.SRE_Match object; span=(7120, 7451), match='(2) Directing other Executive Branch agencies and>\n",
      "<_sre.SRE_Match object; span=(7452, 7821), match='(3) Directing current and former Executive Branch>\n"
     ]
    }
   ],
   "source": [
    "pattern = re.compile(r\"\\(\\w\\).*\\n\")\n",
    "lines = pattern.finditer(raw_transcript)\n",
    "for line in lines:\n",
    "    print(line)"
   ]
  },
  {
   "cell_type": "code",
   "execution_count": 6,
   "metadata": {},
   "outputs": [
    {
     "name": "stdout",
     "output_type": "stream",
     "text": [
      "<_sre.SRE_Match object; span=(858, 884), match='ARTICLE I: ABUSE OF POWER\\n'>\n",
      "<_sre.SRE_Match object; span=(5026, 5062), match='ARTICLE II: OBSTRUCTION OF CONGRESS\\n'>\n"
     ]
    }
   ],
   "source": [
    "pattern = re.compile(r\"ARTICLE.*\\n\")\n",
    "lines = pattern.finditer(raw_transcript)\n",
    "for line in lines:\n",
    "    print(line)"
   ]
  },
  {
   "cell_type": "code",
   "execution_count": 7,
   "metadata": {},
   "outputs": [
    {
     "ename": "TypeError",
     "evalue": "object of type 'callable_iterator' has no len()",
     "output_type": "error",
     "traceback": [
      "\u001b[0;31m---------------------------------------------------------------------------\u001b[0m",
      "\u001b[0;31mTypeError\u001b[0m                                 Traceback (most recent call last)",
      "\u001b[0;32m<ipython-input-7-2b8986a7882a>\u001b[0m in \u001b[0;36m<module>\u001b[0;34m()\u001b[0m\n\u001b[1;32m      1\u001b[0m \u001b[0mpattern\u001b[0m \u001b[0;34m=\u001b[0m \u001b[0mre\u001b[0m\u001b[0;34m.\u001b[0m\u001b[0mcompile\u001b[0m\u001b[0;34m(\u001b[0m\u001b[0;34mr\"Trump\"\u001b[0m\u001b[0;34m)\u001b[0m\u001b[0;34m\u001b[0m\u001b[0m\n\u001b[1;32m      2\u001b[0m \u001b[0mtrump\u001b[0m \u001b[0;34m=\u001b[0m \u001b[0mpattern\u001b[0m\u001b[0;34m.\u001b[0m\u001b[0mfinditer\u001b[0m\u001b[0;34m(\u001b[0m\u001b[0mraw_transcript\u001b[0m\u001b[0;34m)\u001b[0m\u001b[0;34m\u001b[0m\u001b[0m\n\u001b[0;32m----> 3\u001b[0;31m \u001b[0mlen\u001b[0m\u001b[0;34m(\u001b[0m\u001b[0mtrump\u001b[0m\u001b[0;34m)\u001b[0m\u001b[0;34m\u001b[0m\u001b[0m\n\u001b[0m",
      "\u001b[0;31mTypeError\u001b[0m: object of type 'callable_iterator' has no len()"
     ]
    }
   ],
   "source": [
    "pattern = re.compile(r\"Trump\")\n",
    "trump = pattern.finditer(raw_transcript)\n",
    "len(trump)"
   ]
  },
  {
   "cell_type": "code",
   "execution_count": 1,
   "metadata": {},
   "outputs": [],
   "source": [
    "## Articles of Impeachment I. "
   ]
  },
  {
   "cell_type": "code",
   "execution_count": 2,
   "metadata": {},
   "outputs": [],
   "source": [
    "## Articles of Impeachment II. "
   ]
  },
  {
   "cell_type": "code",
   "execution_count": null,
   "metadata": {},
   "outputs": [],
   "source": []
  }
 ],
 "metadata": {
  "kernelspec": {
   "display_name": "Python 3",
   "language": "python",
   "name": "python3"
  },
  "language_info": {
   "codemirror_mode": {
    "name": "ipython",
    "version": 3
   },
   "file_extension": ".py",
   "mimetype": "text/x-python",
   "name": "python",
   "nbconvert_exporter": "python",
   "pygments_lexer": "ipython3",
   "version": "3.6.6"
  }
 },
 "nbformat": 4,
 "nbformat_minor": 2
}
