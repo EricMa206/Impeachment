{
 "cells": [
  {
   "cell_type": "markdown",
   "metadata": {},
   "source": [
    "## Squad Represent\n",
    "\n",
    "Visualizations for the actual number of members represented in each congressmens district\n",
    "\n",
    "Links :\n",
    "\n",
    "[Census API](https://www.census.gov/data/developers/data-sets/acs-1year.html)\n",
    "\n",
    "[Ballotpedia House Members](https://ballotpedia.org)\n"
   ]
  },
  {
   "cell_type": "code",
   "execution_count": 2,
   "metadata": {},
   "outputs": [],
   "source": [
    "from fubar import *\n",
    "import requests\n",
    "from bs4 import BeautifulSoup\n",
    "import pandas as pd\n",
    "import matplotlib.pyplot as plt\n",
    "%matplotlib inline\n",
    "plt.style = \"fivethirtyeight\"\n",
    "import json\n",
    "import re\n",
    "import numpy as np\n",
    "import seaborn as sns\n"
   ]
  },
  {
   "cell_type": "code",
   "execution_count": 3,
   "metadata": {},
   "outputs": [],
   "source": [
    "# Squad Members\n",
    "\n",
    "squad = pd.DataFrame({\"Congresswoman\": [\"Alexandria Ocasio-Cortez\", \"Rashida Tlaib\", \"Ayanna Pressley\", \"Ilhan Omar\"],\n",
    "                      \"State\":[\"NY\", \"MI\", \"MA\", \"MN\"],\n",
    "                      \"District\":[\"14\", \"13\", \"7\", \"5\"],\n",
    "                      \"Total_Population\":[\"691,813\", \"674,157\", \"806,820\", \"721,389\"]})"
   ]
  },
  {
   "cell_type": "code",
   "execution_count": 4,
   "metadata": {},
   "outputs": [],
   "source": [
    "# Freedom Caucus\n",
    "\n",
    "fc_congressmen = [\"Andy Biggs\", \"\"]\n",
    "fc_state = [\"AZ\"]\n",
    "fc_district = [\"5\"]\n",
    "fc_populations = [\"822,497\", \"\"]\n",
    "\n",
    "freedom_caucus = pd.DataFrame()"
   ]
  },
  {
   "cell_type": "code",
   "execution_count": 5,
   "metadata": {},
   "outputs": [],
   "source": [
    "# Census Data API\n",
    "\n",
    "# total_pop = \"B01003_001E\"\n",
    "# congress_district = \"congressional+district:01&in=state:01\"\n",
    "\n",
    "# url = \"https://api.census.gov/data/2017/acs/acs1?get=B01003_001E&for={}&key={}\".format(total_pop, \n",
    "#                                                                                        congress_district, \n",
    "#                                                                                        api_key)\n",
    "\n",
    "\n",
    "# resp = requests.get(url)\n",
    "# if resp.status_code != 200:\n",
    "#     raise ValueError(\"Error getting data from Census: Response Code {}\".format(resp.status_code))"
   ]
  },
  {
   "cell_type": "code",
   "execution_count": 6,
   "metadata": {},
   "outputs": [],
   "source": [
    "# print(resp.text)"
   ]
  },
  {
   "cell_type": "code",
   "execution_count": 19,
   "metadata": {},
   "outputs": [
    {
     "data": {
      "text/html": [
       "<div>\n",
       "<style scoped>\n",
       "    .dataframe tbody tr th:only-of-type {\n",
       "        vertical-align: middle;\n",
       "    }\n",
       "\n",
       "    .dataframe tbody tr th {\n",
       "        vertical-align: top;\n",
       "    }\n",
       "\n",
       "    .dataframe thead th {\n",
       "        text-align: right;\n",
       "    }\n",
       "</style>\n",
       "<table border=\"1\" class=\"dataframe\">\n",
       "  <thead>\n",
       "    <tr style=\"text-align: right;\">\n",
       "      <th></th>\n",
       "      <th>Congresswoman</th>\n",
       "      <th>State</th>\n",
       "      <th>District</th>\n",
       "      <th>Total_Population</th>\n",
       "    </tr>\n",
       "  </thead>\n",
       "  <tbody>\n",
       "    <tr>\n",
       "      <th>0</th>\n",
       "      <td>Alexandria Ocasio-Cortez</td>\n",
       "      <td>NY</td>\n",
       "      <td>14</td>\n",
       "      <td>691813</td>\n",
       "    </tr>\n",
       "    <tr>\n",
       "      <th>1</th>\n",
       "      <td>Rashida Tlaib</td>\n",
       "      <td>MI</td>\n",
       "      <td>13</td>\n",
       "      <td>674157</td>\n",
       "    </tr>\n",
       "    <tr>\n",
       "      <th>2</th>\n",
       "      <td>Ayanna Pressley</td>\n",
       "      <td>MA</td>\n",
       "      <td>7</td>\n",
       "      <td>806820</td>\n",
       "    </tr>\n",
       "    <tr>\n",
       "      <th>3</th>\n",
       "      <td>Ilhan Omar</td>\n",
       "      <td>MN</td>\n",
       "      <td>5</td>\n",
       "      <td>721389</td>\n",
       "    </tr>\n",
       "  </tbody>\n",
       "</table>\n",
       "</div>"
      ],
      "text/plain": [
       "              Congresswoman State District  Total_Population\n",
       "0  Alexandria Ocasio-Cortez    NY       14            691813\n",
       "1             Rashida Tlaib    MI       13            674157\n",
       "2           Ayanna Pressley    MA        7            806820\n",
       "3                Ilhan Omar    MN        5            721389"
      ]
     },
     "execution_count": 19,
     "metadata": {},
     "output_type": "execute_result"
    }
   ],
   "source": [
    "squad"
   ]
  },
  {
   "cell_type": "code",
   "execution_count": 18,
   "metadata": {},
   "outputs": [],
   "source": [
    "squad[\"Total_Population\"] = squad[\"Total_Population\"].str.replace(',', '').astype('int32')"
   ]
  },
  {
   "cell_type": "code",
   "execution_count": null,
   "metadata": {},
   "outputs": [],
   "source": []
  }
 ],
 "metadata": {
  "kernelspec": {
   "display_name": "Python 3",
   "language": "python",
   "name": "python3"
  },
  "language_info": {
   "codemirror_mode": {
    "name": "ipython",
    "version": 3
   },
   "file_extension": ".py",
   "mimetype": "text/x-python",
   "name": "python",
   "nbconvert_exporter": "python",
   "pygments_lexer": "ipython3",
   "version": "3.6.6"
  }
 },
 "nbformat": 4,
 "nbformat_minor": 2
}
